from tensorflow import keras
from keras.models import Sequential
from keras.layers import Dense,Activation,Flatten
from keras import regularizers
import math
import pandas as pd
import numpy as np
#load mnist dataset from keras
((X,Y),(X_test,Y_test))=keras.datasets.mnist.load_data()
#normalize test and train data
X_train=X/255
Y_train=Y
X_test=X_test/255
#divide X into train(80%) and cross-validation(20%) sets
p=math.floor(X.shape[0]*0.2)
t=X.shape[0]-p
X_val=X_train[t:,:,:]
Y_val=Y_train[t:]
X_train=X_train[:t,:,:]
Y_train=Y_train[:t]
#check shapes of train,test,cross-validation
print(X_test.shape,Y_test.shape)
print(X_train.shape,Y_train.shape)
print(X_val.shape,Y_val.shape)
#create a Sequential model using keras with 3 layers(2-hidden layers , 1 outut layer)
model=Sequential()
model.add(Flatten(input_shape=(28,28)))
model.add(Dense(128,activation='relu',kernel_initializer='he_uniform'))
model.add(Dense(128,activation='relu',kernel_initializer='he_uniform'))
model.add(Dense(10,activation='softmax'))
print(model.summary())
#compile your model using 'adam' as optimizer and 'categorical-crossentropy' as loss function
model.compile(optimizer='adam',loss='sparse_categorical_crossentropy',metrics=['accuracy'])
#you can reduce/increase the number of epochs but make sure you don't overfit your data
model.fit(X_train,Y_train,epochs=50,validation_data=(X_val,Y_val))
#evaluate your model to check the accuracy on test set
model.evaluate(X_test,Y_test)
#you can see that the test set will have an accuracy of 98.4%

#Thank you!!
